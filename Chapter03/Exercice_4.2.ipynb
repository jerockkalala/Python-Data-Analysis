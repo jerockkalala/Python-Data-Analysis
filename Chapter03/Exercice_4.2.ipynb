{
 "cells": [
  {
   "cell_type": "markdown",
   "source": [
    "### Title: Exercice 4.2\n",
    "### Author: Jerock Kalala\n",
    "### Date: September 30th 2022\n",
    "### Professor: David Kinney\n",
    "### Pandas skills exercises"
   ],
   "metadata": {
    "collapsed": false,
    "pycharm": {
     "name": "#%% md\n"
    }
   }
  },
  {
   "cell_type": "markdown",
   "source": [],
   "metadata": {
    "collapsed": false,
    "pycharm": {
     "name": "#%% md\n"
    }
   }
  },
  {
   "cell_type": "code",
   "execution_count": 17,
   "outputs": [
    {
     "data": {
      "text/plain": "                Country  CountryID  Continent  Adolescent fertility rate (%)  \\\n0           Afghanistan          1          1                          151.0   \n1               Albania          2          2                           27.0   \n2               Algeria          3          3                            6.0   \n3               Andorra          4          2                            NaN   \n4                Angola          5          3                          146.0   \n..                  ...        ...        ...                            ...   \n197             Vietnam        198          6                           25.0   \n198  West Bank and Gaza        199          1                            NaN   \n199               Yemen        200          1                           83.0   \n200              Zambia        201          3                          161.0   \n201            Zimbabwe        202          3                          101.0   \n\n     Adult literacy rate (%)  \\\n0                       28.0   \n1                       98.7   \n2                       69.9   \n3                        NaN   \n4                       67.4   \n..                       ...   \n197                     90.3   \n198                      NaN   \n199                     54.1   \n200                     68.0   \n201                     89.5   \n\n     Gross national income per capita (PPP international $)  \\\n0                                                  NaN        \n1                                               6000.0        \n2                                               5940.0        \n3                                                  NaN        \n4                                               3890.0        \n..                                                 ...        \n197                                             2310.0        \n198                                                NaN        \n199                                             2090.0        \n200                                             1140.0        \n201                                                NaN        \n\n     Net primary school enrolment ratio female (%)  \\\n0                                              NaN   \n1                                             93.0   \n2                                             94.0   \n3                                             83.0   \n4                                             49.0   \n..                                             ...   \n197                                           91.0   \n198                                            NaN   \n199                                           65.0   \n200                                           94.0   \n201                                           88.0   \n\n     Net primary school enrolment ratio male (%)  \\\n0                                            NaN   \n1                                           94.0   \n2                                           96.0   \n3                                           83.0   \n4                                           51.0   \n..                                           ...   \n197                                         96.0   \n198                                          NaN   \n199                                         85.0   \n200                                         90.0   \n201                                         87.0   \n\n     Population (in thousands) total  \n0                            26088.0  \n1                             3172.0  \n2                            33351.0  \n3                               74.0  \n4                            16557.0  \n..                               ...  \n197                          86206.0  \n198                              NaN  \n199                          21732.0  \n200                          11696.0  \n201                          13228.0  \n\n[202 rows x 9 columns]",
      "text/html": "<div>\n<style scoped>\n    .dataframe tbody tr th:only-of-type {\n        vertical-align: middle;\n    }\n\n    .dataframe tbody tr th {\n        vertical-align: top;\n    }\n\n    .dataframe thead th {\n        text-align: right;\n    }\n</style>\n<table border=\"1\" class=\"dataframe\">\n  <thead>\n    <tr style=\"text-align: right;\">\n      <th></th>\n      <th>Country</th>\n      <th>CountryID</th>\n      <th>Continent</th>\n      <th>Adolescent fertility rate (%)</th>\n      <th>Adult literacy rate (%)</th>\n      <th>Gross national income per capita (PPP international $)</th>\n      <th>Net primary school enrolment ratio female (%)</th>\n      <th>Net primary school enrolment ratio male (%)</th>\n      <th>Population (in thousands) total</th>\n    </tr>\n  </thead>\n  <tbody>\n    <tr>\n      <th>0</th>\n      <td>Afghanistan</td>\n      <td>1</td>\n      <td>1</td>\n      <td>151.0</td>\n      <td>28.0</td>\n      <td>NaN</td>\n      <td>NaN</td>\n      <td>NaN</td>\n      <td>26088.0</td>\n    </tr>\n    <tr>\n      <th>1</th>\n      <td>Albania</td>\n      <td>2</td>\n      <td>2</td>\n      <td>27.0</td>\n      <td>98.7</td>\n      <td>6000.0</td>\n      <td>93.0</td>\n      <td>94.0</td>\n      <td>3172.0</td>\n    </tr>\n    <tr>\n      <th>2</th>\n      <td>Algeria</td>\n      <td>3</td>\n      <td>3</td>\n      <td>6.0</td>\n      <td>69.9</td>\n      <td>5940.0</td>\n      <td>94.0</td>\n      <td>96.0</td>\n      <td>33351.0</td>\n    </tr>\n    <tr>\n      <th>3</th>\n      <td>Andorra</td>\n      <td>4</td>\n      <td>2</td>\n      <td>NaN</td>\n      <td>NaN</td>\n      <td>NaN</td>\n      <td>83.0</td>\n      <td>83.0</td>\n      <td>74.0</td>\n    </tr>\n    <tr>\n      <th>4</th>\n      <td>Angola</td>\n      <td>5</td>\n      <td>3</td>\n      <td>146.0</td>\n      <td>67.4</td>\n      <td>3890.0</td>\n      <td>49.0</td>\n      <td>51.0</td>\n      <td>16557.0</td>\n    </tr>\n    <tr>\n      <th>...</th>\n      <td>...</td>\n      <td>...</td>\n      <td>...</td>\n      <td>...</td>\n      <td>...</td>\n      <td>...</td>\n      <td>...</td>\n      <td>...</td>\n      <td>...</td>\n    </tr>\n    <tr>\n      <th>197</th>\n      <td>Vietnam</td>\n      <td>198</td>\n      <td>6</td>\n      <td>25.0</td>\n      <td>90.3</td>\n      <td>2310.0</td>\n      <td>91.0</td>\n      <td>96.0</td>\n      <td>86206.0</td>\n    </tr>\n    <tr>\n      <th>198</th>\n      <td>West Bank and Gaza</td>\n      <td>199</td>\n      <td>1</td>\n      <td>NaN</td>\n      <td>NaN</td>\n      <td>NaN</td>\n      <td>NaN</td>\n      <td>NaN</td>\n      <td>NaN</td>\n    </tr>\n    <tr>\n      <th>199</th>\n      <td>Yemen</td>\n      <td>200</td>\n      <td>1</td>\n      <td>83.0</td>\n      <td>54.1</td>\n      <td>2090.0</td>\n      <td>65.0</td>\n      <td>85.0</td>\n      <td>21732.0</td>\n    </tr>\n    <tr>\n      <th>200</th>\n      <td>Zambia</td>\n      <td>201</td>\n      <td>3</td>\n      <td>161.0</td>\n      <td>68.0</td>\n      <td>1140.0</td>\n      <td>94.0</td>\n      <td>90.0</td>\n      <td>11696.0</td>\n    </tr>\n    <tr>\n      <th>201</th>\n      <td>Zimbabwe</td>\n      <td>202</td>\n      <td>3</td>\n      <td>101.0</td>\n      <td>89.5</td>\n      <td>NaN</td>\n      <td>88.0</td>\n      <td>87.0</td>\n      <td>13228.0</td>\n    </tr>\n  </tbody>\n</table>\n<p>202 rows × 9 columns</p>\n</div>"
     },
     "execution_count": 17,
     "metadata": {},
     "output_type": "execute_result"
    }
   ],
   "source": [
    "import pandas as pd\n",
    "import numpy as np\n",
    "\n",
    "##### Load the data into a DataFrame and print the results\n",
    "df=pd.read_csv(\"E:\\Bellevue\\Fall_2022\\DSC 350 Data Wrangling for Data Scienc\\Week_4\\WHO_first9cols.csv\")\n",
    "#print(\"dataframe\", df)\n",
    "df"
   ],
   "metadata": {
    "collapsed": false,
    "pycharm": {
     "name": "#%%\n"
    }
   }
  },
  {
   "cell_type": "code",
   "execution_count": 7,
   "outputs": [
    {
     "data": {
      "text/plain": "202"
     },
     "execution_count": 7,
     "metadata": {},
     "output_type": "execute_result"
    }
   ],
   "source": [
    "#Query the number of rows\n",
    "len(df)"
   ],
   "metadata": {
    "collapsed": false,
    "pycharm": {
     "name": "#%%\n"
    }
   }
  },
  {
   "cell_type": "code",
   "execution_count": 12,
   "outputs": [
    {
     "data": {
      "text/plain": "['Country',\n 'CountryID',\n 'Continent',\n 'Adolescent fertility rate (%)',\n 'Adult literacy rate (%)',\n 'Gross national income per capita (PPP international $)',\n 'Net primary school enrolment ratio female (%)',\n 'Net primary school enrolment ratio male (%)',\n 'Population (in thousands) total']"
     },
     "execution_count": 12,
     "metadata": {},
     "output_type": "execute_result"
    }
   ],
   "source": [
    "#Print the column headers\n",
    "list(df)"
   ],
   "metadata": {
    "collapsed": false,
    "pycharm": {
     "name": "#%%\n"
    }
   }
  },
  {
   "cell_type": "code",
   "execution_count": 14,
   "outputs": [
    {
     "data": {
      "text/plain": "Country                                                    object\nCountryID                                                   int64\nContinent                                                   int64\nAdolescent fertility rate (%)                             float64\nAdult literacy rate (%)                                   float64\nGross national income per capita (PPP international $)    float64\nNet primary school enrolment ratio female (%)             float64\nNet primary school enrolment ratio male (%)               float64\nPopulation (in thousands) total                           float64\ndtype: object"
     },
     "execution_count": 14,
     "metadata": {},
     "output_type": "execute_result"
    }
   ],
   "source": [
    "#Print the data types\n",
    "df.dtypes"
   ],
   "metadata": {
    "collapsed": false,
    "pycharm": {
     "name": "#%%\n"
    }
   }
  },
  {
   "cell_type": "code",
   "execution_count": 15,
   "outputs": [
    {
     "data": {
      "text/plain": "RangeIndex(start=0, stop=202, step=1)"
     },
     "execution_count": 15,
     "metadata": {},
     "output_type": "execute_result"
    }
   ],
   "source": [
    "#Print the index\n",
    "df.index"
   ],
   "metadata": {
    "collapsed": false,
    "pycharm": {
     "name": "#%%\n"
    }
   }
  },
  {
   "cell_type": "markdown",
   "source": [
    "#### 2. Using the same file, select the “Country” column and return its data type along with the series shape, index, values, and name.\n"
   ],
   "metadata": {
    "collapsed": false,
    "pycharm": {
     "name": "#%% md\n"
    }
   }
  },
  {
   "cell_type": "code",
   "execution_count": 116,
   "outputs": [
    {
     "name": "stdout",
     "output_type": "stream",
     "text": [
      "Type df <class 'pandas.core.frame.DataFrame'>\n",
      "Type country column is:  <class 'pandas.core.series.Series'>\n",
      "\n",
      "The Shape:  (202,)\n",
      "The index:  RangeIndex(start=0, stop=202, step=1)\n",
      "\n",
      "The values:  ['Afghanistan' 'Albania' 'Algeria' 'Andorra' 'Angola'\n",
      " 'Antigua and Barbuda' 'Argentina' 'Armenia' 'Australia' 'Austria'\n",
      " 'Azerbaijan' 'Bahamas' 'Bahrain' 'Bangladesh' 'Barbados' 'Belarus'\n",
      " 'Belgium' 'Belize' 'Benin' 'Bermuda' 'Bhutan' 'Bolivia'\n",
      " 'Bosnia and Herzegovina' 'Botswana' 'Brazil' 'Brunei Darussalam'\n",
      " 'Bulgaria' 'Burkina Faso' 'Burundi' 'Cambodia' 'Cameroon' 'Canada'\n",
      " 'Cape Verde' 'Central African Republic' 'Chad' 'Chile' 'China' 'Colombia'\n",
      " 'Comoros' 'Congo, Dem. Rep.' 'Congo, Rep.' 'Cook Islands' 'Costa Rica'\n",
      " \"Cote d'Ivoire\" 'Croatia' 'Cuba' 'Cyprus' 'Czech Republic' 'Denmark'\n",
      " 'Djibouti' 'Dominica' 'Dominican Republic' 'Ecuador' 'Egypt'\n",
      " 'El Salvador' 'Equatorial Guinea' 'Eritrea' 'Estonia' 'Ethiopia' 'Fiji'\n",
      " 'Finland' 'France' 'French Polynesia' 'Gabon' 'Gambia' 'Georgia'\n",
      " 'Germany' 'Ghana' 'Greece' 'Grenada' 'Guatemala' 'Guinea' 'Guinea-Bissau'\n",
      " 'Guyana' 'Haiti' 'Honduras' 'Hong Kong, China' 'Hungary' 'Iceland'\n",
      " 'India' 'Indonesia' 'Iran (Islamic Republic of)' 'Iraq' 'Ireland'\n",
      " 'Israel' 'Italy' 'Jamaica' 'Japan' 'Jordan' 'Kazakhstan' 'Kenya'\n",
      " 'Kiribati' 'Korea, Dem. Rep.' 'Korea, Rep.' 'Kuwait' 'Kyrgyzstan'\n",
      " \"Lao People's Democratic Republic\" 'Latvia' 'Lebanon' 'Lesotho' 'Liberia'\n",
      " 'Libyan Arab Jamahiriya' 'Lithuania' 'Luxembourg' 'Macao, China'\n",
      " 'Macedonia' 'Madagascar' 'Malawi' 'Malaysia' 'Maldives' 'Mali' 'Malta'\n",
      " 'Marshall Islands' 'Mauritania' 'Mauritius' 'Mexico'\n",
      " 'Micronesia (Federated States of)' 'Moldova' 'Monaco' 'Mongolia'\n",
      " 'Montenegro' 'Morocco' 'Mozambique' 'Myanmar' 'Namibia' 'Nauru' 'Nepal'\n",
      " 'Netherlands' 'Netherlands Antilles' 'New Caledonia' 'New Zealand'\n",
      " 'Nicaragua' 'Niger' 'Nigeria' 'Niue' 'Norway' 'Oman' 'Pakistan' 'Palau'\n",
      " 'Panama' 'Papua New Guinea' 'Paraguay' 'Peru' 'Philippines' 'Poland'\n",
      " 'Portugal' 'Puerto Rico' 'Qatar' 'Romania' 'Russia' 'Rwanda'\n",
      " 'Saint Kitts and Nevis' 'Saint Lucia' 'Saint Vincent and the Grenadines'\n",
      " 'Samoa' 'San Marino' 'Sao Tome and Principe' 'Saudi Arabia' 'Senegal'\n",
      " 'Serbia' 'Seychelles' 'Sierra Leone' 'Singapore' 'Slovakia' 'Slovenia'\n",
      " 'Solomon Islands' 'Somalia' 'South Africa' 'Spain' 'Sri Lanka' 'Sudan'\n",
      " 'Suriname' 'Swaziland' 'Sweden' 'Switzerland' 'Syria' 'Taiwan'\n",
      " 'Tajikistan' 'Tanzania' 'Thailand' 'Timor-Leste' 'Togo' 'Tonga'\n",
      " 'Trinidad and Tobago' 'Tunisia' 'Turkey' 'Turkmenistan' 'Tuvalu' 'Uganda'\n",
      " 'Ukraine' 'United Arab Emirates' 'United Kingdom'\n",
      " 'United States of America' 'Uruguay' 'Uzbekistan' 'Vanuatu' 'Venezuela'\n",
      " 'Vietnam' 'West Bank and Gaza' 'Yemen' 'Zambia' 'Zimbabwe']\n",
      "\n",
      "The name:  Country\n"
     ]
    }
   ],
   "source": [
    "country=df[\"Country\"]\n",
    "print(\"Type df\", type(df))\n",
    "print(\"Type country column is: \", type(country))\n",
    "\n",
    "#print data type along with the series shape, index, values, and name of the column\n",
    "print(\"\\nThe Shape: \", country.shape)\n",
    "print(\"The index: \", country.index)\n",
    "print(\"\\nThe values: \", country.values)\n",
    "print(\"\\nThe name: \", country.name)\n",
    "\n"
   ],
   "metadata": {
    "collapsed": false,
    "pycharm": {
     "name": "#%%\n"
    }
   }
  },
  {
   "cell_type": "markdown",
   "source": [
    "#### 3. Using the Quandl API, import the data"
   ],
   "metadata": {
    "collapsed": false,
    "pycharm": {
     "name": "#%% md\n"
    }
   }
  },
  {
   "cell_type": "code",
   "execution_count": 27,
   "outputs": [
    {
     "data": {
      "text/plain": "            Yearly Mean Total Sunspot Number  Yearly Mean Standard Deviation  \\\nDate                                                                           \n1700-12-31                               8.3                             NaN   \n1701-12-31                              18.3                             NaN   \n1702-12-31                              26.7                             NaN   \n1703-12-31                              38.3                             NaN   \n1704-12-31                              60.0                             NaN   \n\n            Number of Observations  Definitive/Provisional Indicator  \nDate                                                                  \n1700-12-31                     NaN                               1.0  \n1701-12-31                     NaN                               1.0  \n1702-12-31                     NaN                               1.0  \n1703-12-31                     NaN                               1.0  \n1704-12-31                     NaN                               1.0  ",
      "text/html": "<div>\n<style scoped>\n    .dataframe tbody tr th:only-of-type {\n        vertical-align: middle;\n    }\n\n    .dataframe tbody tr th {\n        vertical-align: top;\n    }\n\n    .dataframe thead th {\n        text-align: right;\n    }\n</style>\n<table border=\"1\" class=\"dataframe\">\n  <thead>\n    <tr style=\"text-align: right;\">\n      <th></th>\n      <th>Yearly Mean Total Sunspot Number</th>\n      <th>Yearly Mean Standard Deviation</th>\n      <th>Number of Observations</th>\n      <th>Definitive/Provisional Indicator</th>\n    </tr>\n    <tr>\n      <th>Date</th>\n      <th></th>\n      <th></th>\n      <th></th>\n      <th></th>\n    </tr>\n  </thead>\n  <tbody>\n    <tr>\n      <th>1700-12-31</th>\n      <td>8.3</td>\n      <td>NaN</td>\n      <td>NaN</td>\n      <td>1.0</td>\n    </tr>\n    <tr>\n      <th>1701-12-31</th>\n      <td>18.3</td>\n      <td>NaN</td>\n      <td>NaN</td>\n      <td>1.0</td>\n    </tr>\n    <tr>\n      <th>1702-12-31</th>\n      <td>26.7</td>\n      <td>NaN</td>\n      <td>NaN</td>\n      <td>1.0</td>\n    </tr>\n    <tr>\n      <th>1703-12-31</th>\n      <td>38.3</td>\n      <td>NaN</td>\n      <td>NaN</td>\n      <td>1.0</td>\n    </tr>\n    <tr>\n      <th>1704-12-31</th>\n      <td>60.0</td>\n      <td>NaN</td>\n      <td>NaN</td>\n      <td>1.0</td>\n    </tr>\n  </tbody>\n</table>\n</div>"
     },
     "execution_count": 27,
     "metadata": {},
     "output_type": "execute_result"
    }
   ],
   "source": [
    "#Using the Quandl API, import the data\n",
    "import quandl\n",
    "\n",
    "sunspot = quandl.get(\"SIDC/SUNSPOTS_A\")\n",
    "sunspot.head()"
   ],
   "metadata": {
    "collapsed": false,
    "pycharm": {
     "name": "#%%\n"
    }
   }
  },
  {
   "cell_type": "code",
   "execution_count": 28,
   "outputs": [
    {
     "data": {
      "text/plain": "            Yearly Mean Total Sunspot Number  Yearly Mean Standard Deviation  \\\nDate                                                                           \n2016-12-31                              39.8                             3.9   \n2017-12-31                              21.7                             2.5   \n2018-12-31                               7.0                             1.1   \n2019-12-31                               3.6                             0.5   \n2020-12-31                               8.8                             4.1   \n\n            Number of Observations  Definitive/Provisional Indicator  \nDate                                                                  \n2016-12-31                  9940.0                               1.0  \n2017-12-31                 11444.0                               1.0  \n2018-12-31                 12611.0                               1.0  \n2019-12-31                 12884.0                               1.0  \n2020-12-31                 14440.0                               1.0  ",
      "text/html": "<div>\n<style scoped>\n    .dataframe tbody tr th:only-of-type {\n        vertical-align: middle;\n    }\n\n    .dataframe tbody tr th {\n        vertical-align: top;\n    }\n\n    .dataframe thead th {\n        text-align: right;\n    }\n</style>\n<table border=\"1\" class=\"dataframe\">\n  <thead>\n    <tr style=\"text-align: right;\">\n      <th></th>\n      <th>Yearly Mean Total Sunspot Number</th>\n      <th>Yearly Mean Standard Deviation</th>\n      <th>Number of Observations</th>\n      <th>Definitive/Provisional Indicator</th>\n    </tr>\n    <tr>\n      <th>Date</th>\n      <th></th>\n      <th></th>\n      <th></th>\n      <th></th>\n    </tr>\n  </thead>\n  <tbody>\n    <tr>\n      <th>2016-12-31</th>\n      <td>39.8</td>\n      <td>3.9</td>\n      <td>9940.0</td>\n      <td>1.0</td>\n    </tr>\n    <tr>\n      <th>2017-12-31</th>\n      <td>21.7</td>\n      <td>2.5</td>\n      <td>11444.0</td>\n      <td>1.0</td>\n    </tr>\n    <tr>\n      <th>2018-12-31</th>\n      <td>7.0</td>\n      <td>1.1</td>\n      <td>12611.0</td>\n      <td>1.0</td>\n    </tr>\n    <tr>\n      <th>2019-12-31</th>\n      <td>3.6</td>\n      <td>0.5</td>\n      <td>12884.0</td>\n      <td>1.0</td>\n    </tr>\n    <tr>\n      <th>2020-12-31</th>\n      <td>8.8</td>\n      <td>4.1</td>\n      <td>14440.0</td>\n      <td>1.0</td>\n    </tr>\n  </tbody>\n</table>\n</div>"
     },
     "execution_count": 28,
     "metadata": {},
     "output_type": "execute_result"
    }
   ],
   "source": [
    "sunspot.tail()"
   ],
   "metadata": {
    "collapsed": false,
    "pycharm": {
     "name": "#%%\n"
    }
   }
  },
  {
   "cell_type": "code",
   "execution_count": 30,
   "outputs": [
    {
     "name": "stdout",
     "output_type": "stream",
     "text": [
      "The last value is:  2020-12-31 00:00:00\n"
     ]
    }
   ],
   "source": [
    "#Query for the last value using the last date\n",
    "last = sunspot.index[-1]\n",
    "print(\"The last value is: \", last)"
   ],
   "metadata": {
    "collapsed": false,
    "pycharm": {
     "name": "#%%\n"
    }
   }
  },
  {
   "cell_type": "code",
   "execution_count": 31,
   "outputs": [
    {
     "name": "stdout",
     "output_type": "stream",
     "text": [
      "The date is: \n",
      "             Yearly Mean Total Sunspot Number  Yearly Mean Standard Deviation  \\\n",
      "Date                                                                           \n",
      "2002-12-31                             163.6                             9.8   \n",
      "2003-12-31                              99.3                             7.1   \n",
      "2004-12-31                              65.3                             5.9   \n",
      "2005-12-31                              45.8                             4.7   \n",
      "2006-12-31                              24.7                             3.5   \n",
      "2007-12-31                              12.6                             2.7   \n",
      "2008-12-31                               4.2                             2.5   \n",
      "2009-12-31                               4.8                             2.5   \n",
      "2010-12-31                              24.9                             3.4   \n",
      "2011-12-31                              80.8                             6.7   \n",
      "2012-12-31                              84.5                             6.7   \n",
      "2013-12-31                              94.0                             6.9   \n",
      "\n",
      "            Number of Observations  Definitive/Provisional Indicator  \n",
      "Date                                                                  \n",
      "2002-12-31                  6588.0                               1.0  \n",
      "2003-12-31                  7087.0                               1.0  \n",
      "2004-12-31                  6882.0                               1.0  \n",
      "2005-12-31                  7084.0                               1.0  \n",
      "2006-12-31                  6370.0                               1.0  \n",
      "2007-12-31                  6841.0                               1.0  \n",
      "2008-12-31                  6644.0                               1.0  \n",
      "2009-12-31                  6465.0                               1.0  \n",
      "2010-12-31                  6328.0                               1.0  \n",
      "2011-12-31                  6077.0                               1.0  \n",
      "2012-12-31                  5753.0                               1.0  \n",
      "2013-12-31                  5347.0                               1.0  \n"
     ]
    }
   ],
   "source": [
    "#Query the date with date strings in the YYYYMMDD format\n",
    "print(\"The value slice by date is: \\n\", sunspot[\"20020101\" : \"20131231\"])"
   ],
   "metadata": {
    "collapsed": false,
    "pycharm": {
     "name": "#%%\n"
    }
   }
  },
  {
   "cell_type": "code",
   "execution_count": 32,
   "outputs": [
    {
     "name": "stdout",
     "output_type": "stream",
     "text": [
      "Boolean selection             Yearly Mean Total Sunspot Number  Yearly Mean Standard Deviation  \\\n",
      "Date                                                                           \n",
      "1700-12-31                               NaN                             NaN   \n",
      "1701-12-31                               NaN                             NaN   \n",
      "1702-12-31                               NaN                             NaN   \n",
      "1703-12-31                               NaN                             NaN   \n",
      "1704-12-31                               NaN                             NaN   \n",
      "...                                      ...                             ...   \n",
      "2016-12-31                               NaN                             NaN   \n",
      "2017-12-31                               NaN                             NaN   \n",
      "2018-12-31                               NaN                             NaN   \n",
      "2019-12-31                               NaN                             NaN   \n",
      "2020-12-31                               NaN                             NaN   \n",
      "\n",
      "            Number of Observations  Definitive/Provisional Indicator  \n",
      "Date                                                                  \n",
      "1700-12-31                     NaN                               NaN  \n",
      "1701-12-31                     NaN                               NaN  \n",
      "1702-12-31                     NaN                               NaN  \n",
      "1703-12-31                     NaN                               NaN  \n",
      "1704-12-31                     NaN                               NaN  \n",
      "...                            ...                               ...  \n",
      "2016-12-31                  9940.0                               NaN  \n",
      "2017-12-31                 11444.0                               NaN  \n",
      "2018-12-31                 12611.0                               NaN  \n",
      "2019-12-31                 12884.0                               NaN  \n",
      "2020-12-31                 14440.0                               NaN  \n",
      "\n",
      "[321 rows x 4 columns]\n"
     ]
    }
   ],
   "source": [
    "#Query with a Boolean, where the number of observations is greater than the mean number of observations\n",
    "print(\"Boolean selection\", sunspot[sunspot>sunspot.mean()])"
   ],
   "metadata": {
    "collapsed": false,
    "pycharm": {
     "name": "#%%\n"
    }
   }
  },
  {
   "cell_type": "code",
   "execution_count": 38,
   "outputs": [
    {
     "name": "stdout",
     "output_type": "stream",
     "text": [
      "Boolean selection             Yearly Mean Total Sunspot Number  Yearly Mean Standard Deviation  \\\n",
      "Date                                                                           \n",
      "1981-12-31                             198.9                            13.1   \n",
      "1982-12-31                             162.4                            12.1   \n",
      "1983-12-31                              91.0                             7.6   \n",
      "1984-12-31                              60.5                             5.9   \n",
      "1985-12-31                              20.6                             3.7   \n",
      "1986-12-31                              14.8                             3.5   \n",
      "1987-12-31                              33.9                             3.7   \n",
      "1988-12-31                             123.0                             8.4   \n",
      "1989-12-31                             211.1                            12.8   \n",
      "1990-12-31                             191.8                            11.2   \n",
      "1991-12-31                             203.3                            12.7   \n",
      "1992-12-31                             133.0                             8.9   \n",
      "1993-12-31                              76.1                             5.8   \n",
      "1994-12-31                              44.9                             4.4   \n",
      "1995-12-31                              25.1                             3.7   \n",
      "1996-12-31                              11.6                             3.1   \n",
      "1997-12-31                              28.9                             3.6   \n",
      "1998-12-31                              88.3                             6.6   \n",
      "1999-12-31                             136.3                             9.3   \n",
      "2000-12-31                             173.9                            10.1   \n",
      "2001-12-31                             170.4                            10.5   \n",
      "2002-12-31                             163.6                             9.8   \n",
      "2003-12-31                              99.3                             7.1   \n",
      "2004-12-31                              65.3                             5.9   \n",
      "2005-12-31                              45.8                             4.7   \n",
      "2006-12-31                              24.7                             3.5   \n",
      "2007-12-31                              12.6                             2.7   \n",
      "2008-12-31                               4.2                             2.5   \n",
      "2009-12-31                               4.8                             2.5   \n",
      "2010-12-31                              24.9                             3.4   \n",
      "2011-12-31                              80.8                             6.7   \n",
      "2012-12-31                              84.5                             6.7   \n",
      "2013-12-31                              94.0                             6.9   \n",
      "2014-12-31                             113.3                             8.0   \n",
      "2015-12-31                              69.8                             6.4   \n",
      "2016-12-31                              39.8                             3.9   \n",
      "2017-12-31                              21.7                             2.5   \n",
      "2018-12-31                               7.0                             1.1   \n",
      "2019-12-31                               3.6                             0.5   \n",
      "2020-12-31                               8.8                             4.1   \n",
      "\n",
      "            Number of Observations  Definitive/Provisional Indicator  \n",
      "Date                                                                  \n",
      "1981-12-31                  3049.0                               1.0  \n",
      "1982-12-31                  3436.0                               1.0  \n",
      "1983-12-31                  4216.0                               1.0  \n",
      "1984-12-31                  5103.0                               1.0  \n",
      "1985-12-31                  5543.0                               1.0  \n",
      "1986-12-31                  5934.0                               1.0  \n",
      "1987-12-31                  6396.0                               1.0  \n",
      "1988-12-31                  6556.0                               1.0  \n",
      "1989-12-31                  6932.0                               1.0  \n",
      "1990-12-31                  7108.0                               1.0  \n",
      "1991-12-31                  6932.0                               1.0  \n",
      "1992-12-31                  7845.0                               1.0  \n",
      "1993-12-31                  8010.0                               1.0  \n",
      "1994-12-31                  8524.0                               1.0  \n",
      "1995-12-31                  8429.0                               1.0  \n",
      "1996-12-31                  7614.0                               1.0  \n",
      "1997-12-31                  7294.0                               1.0  \n",
      "1998-12-31                  6353.0                               1.0  \n",
      "1999-12-31                  6413.0                               1.0  \n",
      "2000-12-31                  5953.0                               1.0  \n",
      "2001-12-31                  6558.0                               1.0  \n",
      "2002-12-31                  6588.0                               1.0  \n",
      "2003-12-31                  7087.0                               1.0  \n",
      "2004-12-31                  6882.0                               1.0  \n",
      "2005-12-31                  7084.0                               1.0  \n",
      "2006-12-31                  6370.0                               1.0  \n",
      "2007-12-31                  6841.0                               1.0  \n",
      "2008-12-31                  6644.0                               1.0  \n",
      "2009-12-31                  6465.0                               1.0  \n",
      "2010-12-31                  6328.0                               1.0  \n",
      "2011-12-31                  6077.0                               1.0  \n",
      "2012-12-31                  5753.0                               1.0  \n",
      "2013-12-31                  5347.0                               1.0  \n",
      "2014-12-31                  5273.0                               1.0  \n",
      "2015-12-31                  8903.0                               1.0  \n",
      "2016-12-31                  9940.0                               1.0  \n",
      "2017-12-31                 11444.0                               1.0  \n",
      "2018-12-31                 12611.0                               1.0  \n",
      "2019-12-31                 12884.0                               1.0  \n",
      "2020-12-31                 14440.0                               1.0  \n"
     ]
    }
   ],
   "source": [
    "#Query with a Boolean, where the number of sunspots is greater than the mean number of sunspots\n",
    "print(\"Boolean selection\", sunspot[sunspot['Number of Observations']>sunspot['Number of Observations'].mean()])"
   ],
   "metadata": {
    "collapsed": false,
    "pycharm": {
     "name": "#%%\n"
    }
   }
  },
  {
   "cell_type": "markdown",
   "source": [
    "#### 4. Using the Quandl API, import the data and run the following descriptive stats where Sunspots is not equal to NaN"
   ],
   "metadata": {
    "collapsed": false,
    "pycharm": {
     "name": "#%% md\n"
    }
   }
  },
  {
   "cell_type": "code",
   "execution_count": 39,
   "outputs": [
    {
     "data": {
      "text/plain": "       Yearly Mean Total Sunspot Number  Yearly Mean Standard Deviation  \\\ncount                        321.000000                      203.000000   \nmean                          78.517134                        7.892118   \nstd                           62.091523                        3.866310   \nmin                            0.000000                        0.500000   \n25%                           24.200000                        4.550000   \n50%                           65.300000                        7.600000   \n75%                          115.200000                       10.350000   \nmax                          269.300000                       19.100000   \n\n       Number of Observations  Definitive/Provisional Indicator  \ncount              203.000000                             321.0  \nmean              1691.857143                               1.0  \nstd               2913.060813                               0.0  \nmin                150.000000                               1.0  \n25%                365.000000                               1.0  \n50%                365.000000                               1.0  \n75%                366.000000                               1.0  \nmax              14440.000000                               1.0  ",
      "text/html": "<div>\n<style scoped>\n    .dataframe tbody tr th:only-of-type {\n        vertical-align: middle;\n    }\n\n    .dataframe tbody tr th {\n        vertical-align: top;\n    }\n\n    .dataframe thead th {\n        text-align: right;\n    }\n</style>\n<table border=\"1\" class=\"dataframe\">\n  <thead>\n    <tr style=\"text-align: right;\">\n      <th></th>\n      <th>Yearly Mean Total Sunspot Number</th>\n      <th>Yearly Mean Standard Deviation</th>\n      <th>Number of Observations</th>\n      <th>Definitive/Provisional Indicator</th>\n    </tr>\n  </thead>\n  <tbody>\n    <tr>\n      <th>count</th>\n      <td>321.000000</td>\n      <td>203.000000</td>\n      <td>203.000000</td>\n      <td>321.0</td>\n    </tr>\n    <tr>\n      <th>mean</th>\n      <td>78.517134</td>\n      <td>7.892118</td>\n      <td>1691.857143</td>\n      <td>1.0</td>\n    </tr>\n    <tr>\n      <th>std</th>\n      <td>62.091523</td>\n      <td>3.866310</td>\n      <td>2913.060813</td>\n      <td>0.0</td>\n    </tr>\n    <tr>\n      <th>min</th>\n      <td>0.000000</td>\n      <td>0.500000</td>\n      <td>150.000000</td>\n      <td>1.0</td>\n    </tr>\n    <tr>\n      <th>25%</th>\n      <td>24.200000</td>\n      <td>4.550000</td>\n      <td>365.000000</td>\n      <td>1.0</td>\n    </tr>\n    <tr>\n      <th>50%</th>\n      <td>65.300000</td>\n      <td>7.600000</td>\n      <td>365.000000</td>\n      <td>1.0</td>\n    </tr>\n    <tr>\n      <th>75%</th>\n      <td>115.200000</td>\n      <td>10.350000</td>\n      <td>366.000000</td>\n      <td>1.0</td>\n    </tr>\n    <tr>\n      <th>max</th>\n      <td>269.300000</td>\n      <td>19.100000</td>\n      <td>14440.000000</td>\n      <td>1.0</td>\n    </tr>\n  </tbody>\n</table>\n</div>"
     },
     "execution_count": 39,
     "metadata": {},
     "output_type": "execute_result"
    }
   ],
   "source": [
    "# Print the results of the describe function\n",
    "sunspot.describe()"
   ],
   "metadata": {
    "collapsed": false,
    "pycharm": {
     "name": "#%%\n"
    }
   }
  },
  {
   "cell_type": "code",
   "execution_count": 40,
   "outputs": [
    {
     "data": {
      "text/plain": "Yearly Mean Total Sunspot Number    321\nYearly Mean Standard Deviation      203\nNumber of Observations              203\nDefinitive/Provisional Indicator    321\ndtype: int64"
     },
     "execution_count": 40,
     "metadata": {},
     "output_type": "execute_result"
    }
   ],
   "source": [
    "#Print the count of observations\n",
    "sunspot.count()"
   ],
   "metadata": {
    "collapsed": false,
    "pycharm": {
     "name": "#%%\n"
    }
   }
  },
  {
   "cell_type": "code",
   "execution_count": 41,
   "outputs": [
    {
     "name": "stderr",
     "output_type": "stream",
     "text": [
      "C:\\Users\\jeroc\\AppData\\Local\\Temp\\ipykernel_22644\\3129789996.py:2: FutureWarning: The 'mad' method is deprecated and will be removed in a future version. To compute the same result, you may do `(df - df.mean()).abs().mean()`.\n",
      "  sunspot.mad()\n"
     ]
    },
    {
     "data": {
      "text/plain": "Yearly Mean Total Sunspot Number      51.020996\nYearly Mean Standard Deviation         3.177068\nNumber of Observations              2162.410978\nDefinitive/Provisional Indicator       0.000000\ndtype: float64"
     },
     "execution_count": 41,
     "metadata": {},
     "output_type": "execute_result"
    }
   ],
   "source": [
    "#Print the mad\n",
    "sunspot.mad()"
   ],
   "metadata": {
    "collapsed": false,
    "pycharm": {
     "name": "#%%\n"
    }
   }
  },
  {
   "cell_type": "code",
   "execution_count": 42,
   "outputs": [
    {
     "data": {
      "text/plain": "Yearly Mean Total Sunspot Number      78.517134\nYearly Mean Standard Deviation         7.892118\nNumber of Observations              1691.857143\nDefinitive/Provisional Indicator       1.000000\ndtype: float64"
     },
     "execution_count": 42,
     "metadata": {},
     "output_type": "execute_result"
    }
   ],
   "source": [
    "#Print the mean\n",
    "sunspot.mean()"
   ],
   "metadata": {
    "collapsed": false,
    "pycharm": {
     "name": "#%%\n"
    }
   }
  },
  {
   "cell_type": "code",
   "execution_count": 43,
   "outputs": [
    {
     "data": {
      "text/plain": "Yearly Mean Total Sunspot Number     65.3\nYearly Mean Standard Deviation        7.6\nNumber of Observations              365.0\nDefinitive/Provisional Indicator      1.0\ndtype: float64"
     },
     "execution_count": 43,
     "metadata": {},
     "output_type": "execute_result"
    }
   ],
   "source": [
    "#Print the median\n",
    "sunspot.median()"
   ],
   "metadata": {
    "collapsed": false,
    "pycharm": {
     "name": "#%%\n"
    }
   }
  },
  {
   "cell_type": "code",
   "execution_count": 44,
   "outputs": [
    {
     "data": {
      "text/plain": "Yearly Mean Total Sunspot Number      269.3\nYearly Mean Standard Deviation         19.1\nNumber of Observations              14440.0\nDefinitive/Provisional Indicator        1.0\ndtype: float64"
     },
     "execution_count": 44,
     "metadata": {},
     "output_type": "execute_result"
    }
   ],
   "source": [
    "#Print the Max\n",
    "sunspot.max()"
   ],
   "metadata": {
    "collapsed": false,
    "pycharm": {
     "name": "#%%\n"
    }
   }
  },
  {
   "cell_type": "code",
   "execution_count": 46,
   "outputs": [
    {
     "data": {
      "text/plain": "Yearly Mean Total Sunspot Number      0.0\nYearly Mean Standard Deviation        0.5\nNumber of Observations              150.0\nDefinitive/Provisional Indicator      1.0\ndtype: float64"
     },
     "execution_count": 46,
     "metadata": {},
     "output_type": "execute_result"
    }
   ],
   "source": [
    "#Print the Min\n",
    "sunspot.min()"
   ],
   "metadata": {
    "collapsed": false,
    "pycharm": {
     "name": "#%%\n"
    }
   }
  },
  {
   "cell_type": "code",
   "execution_count": 47,
   "outputs": [
    {
     "data": {
      "text/plain": "   Yearly Mean Total Sunspot Number  Yearly Mean Standard Deviation  \\\n0                              18.3                             9.2   \n\n   Number of Observations  Definitive/Provisional Indicator  \n0                   365.0                               1.0  ",
      "text/html": "<div>\n<style scoped>\n    .dataframe tbody tr th:only-of-type {\n        vertical-align: middle;\n    }\n\n    .dataframe tbody tr th {\n        vertical-align: top;\n    }\n\n    .dataframe thead th {\n        text-align: right;\n    }\n</style>\n<table border=\"1\" class=\"dataframe\">\n  <thead>\n    <tr style=\"text-align: right;\">\n      <th></th>\n      <th>Yearly Mean Total Sunspot Number</th>\n      <th>Yearly Mean Standard Deviation</th>\n      <th>Number of Observations</th>\n      <th>Definitive/Provisional Indicator</th>\n    </tr>\n  </thead>\n  <tbody>\n    <tr>\n      <th>0</th>\n      <td>18.3</td>\n      <td>9.2</td>\n      <td>365.0</td>\n      <td>1.0</td>\n    </tr>\n  </tbody>\n</table>\n</div>"
     },
     "execution_count": 47,
     "metadata": {},
     "output_type": "execute_result"
    }
   ],
   "source": [
    "#Print the Mode\n",
    "sunspot.mode()"
   ],
   "metadata": {
    "collapsed": false,
    "pycharm": {
     "name": "#%%\n"
    }
   }
  },
  {
   "cell_type": "code",
   "execution_count": 48,
   "outputs": [
    {
     "data": {
      "text/plain": "Yearly Mean Total Sunspot Number      62.091523\nYearly Mean Standard Deviation         3.866310\nNumber of Observations              2913.060813\nDefinitive/Provisional Indicator       0.000000\ndtype: float64"
     },
     "execution_count": 48,
     "metadata": {},
     "output_type": "execute_result"
    }
   ],
   "source": [
    "#Print the standard deviation\n",
    "sunspot.std()"
   ],
   "metadata": {
    "collapsed": false,
    "pycharm": {
     "name": "#%%\n"
    }
   }
  },
  {
   "cell_type": "code",
   "execution_count": 49,
   "outputs": [
    {
     "data": {
      "text/plain": "Yearly Mean Total Sunspot Number    3.855357e+03\nYearly Mean Standard Deviation      1.494835e+01\nNumber of Observations              8.485923e+06\nDefinitive/Provisional Indicator    0.000000e+00\ndtype: float64"
     },
     "execution_count": 49,
     "metadata": {},
     "output_type": "execute_result"
    }
   ],
   "source": [
    "#Print the variance\n",
    "sunspot.var()"
   ],
   "metadata": {
    "collapsed": false,
    "pycharm": {
     "name": "#%%\n"
    }
   }
  },
  {
   "cell_type": "code",
   "execution_count": 50,
   "outputs": [
    {
     "data": {
      "text/plain": "Yearly Mean Total Sunspot Number    0.814781\nYearly Mean Standard Deviation      0.533409\nNumber of Observations              2.099601\nDefinitive/Provisional Indicator    0.000000\ndtype: float64"
     },
     "execution_count": 50,
     "metadata": {},
     "output_type": "execute_result"
    }
   ],
   "source": [
    "#Print the Skewness\n",
    "sunspot.skew()"
   ],
   "metadata": {
    "collapsed": false,
    "pycharm": {
     "name": "#%%\n"
    }
   }
  },
  {
   "cell_type": "markdown",
   "source": [
    "#### 5. Using the numpy random data generator, create a dataframe with the following columns (Weather, Food  Price, and Number) (pg. 70 of your text)"
   ],
   "metadata": {
    "collapsed": false,
    "pycharm": {
     "name": "#%% md\n"
    }
   }
  },
  {
   "cell_type": "code",
   "execution_count": 60,
   "outputs": [
    {
     "name": "stderr",
     "output_type": "stream",
     "text": [
      "C:\\Users\\jeroc\\AppData\\Local\\Temp\\ipykernel_22644\\2714849293.py:7: DeprecationWarning: This function is deprecated. Please call randint(1, 9 + 1) instead\n",
      "  \"Price\" : 10 * rand(7),\"Number\" : random_integers(1, 9,)})\n"
     ]
    },
    {
     "data": {
      "text/plain": "  Weather       Food     Price  Number\n0    cold       soup  6.237433       6\n1     hot       soup  2.730449       6\n2    cold   icecream  5.982072       6\n3     hot  chocolate  5.736406       6\n4    cold   icecream  7.418865       6\n5     hot   icecream  3.635592       6\n6    cold       soup  0.599554       6",
      "text/html": "<div>\n<style scoped>\n    .dataframe tbody tr th:only-of-type {\n        vertical-align: middle;\n    }\n\n    .dataframe tbody tr th {\n        vertical-align: top;\n    }\n\n    .dataframe thead th {\n        text-align: right;\n    }\n</style>\n<table border=\"1\" class=\"dataframe\">\n  <thead>\n    <tr style=\"text-align: right;\">\n      <th></th>\n      <th>Weather</th>\n      <th>Food</th>\n      <th>Price</th>\n      <th>Number</th>\n    </tr>\n  </thead>\n  <tbody>\n    <tr>\n      <th>0</th>\n      <td>cold</td>\n      <td>soup</td>\n      <td>6.237433</td>\n      <td>6</td>\n    </tr>\n    <tr>\n      <th>1</th>\n      <td>hot</td>\n      <td>soup</td>\n      <td>2.730449</td>\n      <td>6</td>\n    </tr>\n    <tr>\n      <th>2</th>\n      <td>cold</td>\n      <td>icecream</td>\n      <td>5.982072</td>\n      <td>6</td>\n    </tr>\n    <tr>\n      <th>3</th>\n      <td>hot</td>\n      <td>chocolate</td>\n      <td>5.736406</td>\n      <td>6</td>\n    </tr>\n    <tr>\n      <th>4</th>\n      <td>cold</td>\n      <td>icecream</td>\n      <td>7.418865</td>\n      <td>6</td>\n    </tr>\n    <tr>\n      <th>5</th>\n      <td>hot</td>\n      <td>icecream</td>\n      <td>3.635592</td>\n      <td>6</td>\n    </tr>\n    <tr>\n      <th>6</th>\n      <td>cold</td>\n      <td>soup</td>\n      <td>0.599554</td>\n      <td>6</td>\n    </tr>\n  </tbody>\n</table>\n</div>"
     },
     "execution_count": 60,
     "metadata": {},
     "output_type": "execute_result"
    }
   ],
   "source": [
    "from numpy.random import rand\n",
    "from numpy.random import  seed\n",
    "from numpy.random import random_integers\n",
    "\n",
    "df1 = pd.DataFrame({\"Weather\" : ['cold', 'hot', 'cold', 'hot', 'cold', 'hot', 'cold'],\n",
    "                    \"Food\" : ['soup', 'soup', 'icecream', 'chocolate', 'icecream', 'icecream', 'soup'],\n",
    "                   \"Price\" : 10 * rand(7),\"Number\" : random_integers(1, 9,)})\n",
    "df1"
   ],
   "metadata": {
    "collapsed": false,
    "pycharm": {
     "name": "#%%\n"
    }
   }
  },
  {
   "cell_type": "code",
   "execution_count": 62,
   "outputs": [
    {
     "name": "stdout",
     "output_type": "stream",
     "text": [
      "Group 1 cold\n",
      "  Weather      Food     Price  Number\n",
      "0    cold      soup  6.237433       6\n",
      "2    cold  icecream  5.982072       6\n",
      "4    cold  icecream  7.418865       6\n",
      "6    cold      soup  0.599554       6\n",
      "Group 2 hot\n",
      "  Weather       Food     Price  Number\n",
      "1     hot       soup  2.730449       6\n",
      "3     hot  chocolate  5.736406       6\n",
      "5     hot   icecream  3.635592       6\n"
     ]
    }
   ],
   "source": [
    "#Group the data by the weather column and then create a function to iterate through the groups (you should have 2 groups after, for hot and cold)\n",
    "group_weather = df1.groupby('Weather')\n",
    "i=0\n",
    "for name, group in group_weather:\n",
    "    i+=1\n",
    "    print(\"Group\", i, name)\n",
    "    print(group)"
   ],
   "metadata": {
    "collapsed": false,
    "pycharm": {
     "name": "#%%\n"
    }
   }
  },
  {
   "cell_type": "code",
   "execution_count": 110,
   "outputs": [
    {
     "name": "stdout",
     "output_type": "stream",
     "text": [
      "Weather group first          Food     Price  Number\n",
      "Weather                        \n",
      "cold     soup  6.237433       6\n",
      "hot      soup  2.730449       6 \n",
      "\n",
      "Weather group Last              Food     Price  Number\n",
      "Weather                            \n",
      "cold         soup  0.599554       6\n",
      "hot      icecream  3.635592       6 \n",
      "\n",
      "Weather group Mean             Price  Number\n",
      "Weather                  \n",
      "cold     5.059481     6.0\n",
      "hot      4.034149     6.0\n"
     ]
    },
    {
     "name": "stderr",
     "output_type": "stream",
     "text": [
      "C:\\Users\\jeroc\\AppData\\Local\\Temp\\ipykernel_22644\\2995273781.py:5: FutureWarning: The default value of numeric_only in DataFrameGroupBy.mean is deprecated. In a future version, numeric_only will default to False. Either specify numeric_only or select only columns which should be valid for the function.\n",
      "  print(\"Weather group Mean\", group_weather.mean())\n"
     ]
    }
   ],
   "source": [
    "# Your function/variable that you created (weather_group) can be used for aggregation methods – print the first row, last row and mean for each group\n",
    "\n",
    "print(\"Weather group first\", group_weather.first(), \"\\n\")\n",
    "print(\"Weather group Last\", group_weather.last(), \"\\n\")\n",
    "print(\"Weather group Mean\", group_weather.mean())"
   ],
   "metadata": {
    "collapsed": false,
    "pycharm": {
     "name": "#%%\n"
    }
   }
  },
  {
   "cell_type": "code",
   "execution_count": 71,
   "outputs": [
    {
     "name": "stdout",
     "output_type": "stream",
     "text": [
      "Weather group Mean             Price  Number\n",
      "Weather                  \n",
      "cold     5.059481     6.0\n",
      "hot      4.034149     6.0\n"
     ]
    },
    {
     "name": "stderr",
     "output_type": "stream",
     "text": [
      "C:\\Users\\jeroc\\AppData\\Local\\Temp\\ipykernel_22644\\1504930114.py:1: FutureWarning: The default value of numeric_only in DataFrameGroupBy.mean is deprecated. In a future version, numeric_only will default to False. Either specify numeric_only or select only columns which should be valid for the function.\n",
      "  print(\"Weather group Mean\", group_weather.mean())\n"
     ]
    }
   ],
   "source": [
    "print(\"Weather group Mean\", group_weather.mean())"
   ],
   "metadata": {
    "collapsed": false,
    "pycharm": {
     "name": "#%%\n"
    }
   }
  },
  {
   "cell_type": "code",
   "execution_count": 111,
   "outputs": [
    {
     "name": "stdout",
     "output_type": "stream",
     "text": [
      "Weather-Food {('cold', 'icecream'): [2, 4], ('cold', 'soup'): [0, 6], ('hot', 'chocolate'): [3], ('hot', 'icecream'): [5], ('hot', 'soup'): [1]}\n"
     ]
    }
   ],
   "source": [
    "# Create another group – on Food (so you would have Weather and Food)\n",
    "\n",
    "group_wf = df1.groupby(['Weather', 'Food'])\n",
    "print(\"Weather-Food\", group_wf.groups)"
   ],
   "metadata": {
    "collapsed": false,
    "pycharm": {
     "name": "#%%\n"
    }
   }
  },
  {
   "cell_type": "markdown",
   "source": [
    "#### 6. Using the dataframe you created in #5, select the first 3 rows"
   ],
   "metadata": {
    "collapsed": false,
    "pycharm": {
     "name": "#%% md\n"
    }
   }
  },
  {
   "cell_type": "code",
   "execution_count": 128,
   "outputs": [
    {
     "name": "stdout",
     "output_type": "stream",
     "text": [
      "Here are the first tree rows: \n",
      "   Weather      Food     Price  Number\n",
      "0    cold      soup  6.237433       6\n",
      "1     hot      soup  2.730449       6\n",
      "2    cold  icecream  5.982072       6\n"
     ]
    }
   ],
   "source": [
    "three=df1[:3]\n",
    "#or we can use df1.head(3)\n",
    "print(\"Here are the first tree rows: \\n\", three)"
   ],
   "metadata": {
    "collapsed": false,
    "pycharm": {
     "name": "#%%\n"
    }
   }
  },
  {
   "cell_type": "code",
   "execution_count": 132,
   "outputs": [
    {
     "data": {
      "text/plain": "         Country  CountryID  Continent  Adolescent fertility rate (%)  \\\n0    Afghanistan        1.0        1.0                          151.0   \n1        Albania        2.0        2.0                           27.0   \n2        Algeria        3.0        3.0                            6.0   \n3        Andorra        4.0        2.0                            NaN   \n4         Angola        5.0        3.0                          146.0   \n..           ...        ...        ...                            ...   \n200       Zambia      201.0        3.0                          161.0   \n201     Zimbabwe      202.0        3.0                          101.0   \n0            NaN        NaN        NaN                            NaN   \n1            NaN        NaN        NaN                            NaN   \n2            NaN        NaN        NaN                            NaN   \n\n     Adult literacy rate (%)  \\\n0                       28.0   \n1                       98.7   \n2                       69.9   \n3                        NaN   \n4                       67.4   \n..                       ...   \n200                     68.0   \n201                     89.5   \n0                        NaN   \n1                        NaN   \n2                        NaN   \n\n     Gross national income per capita (PPP international $)  \\\n0                                                  NaN        \n1                                               6000.0        \n2                                               5940.0        \n3                                                  NaN        \n4                                               3890.0        \n..                                                 ...        \n200                                             1140.0        \n201                                                NaN        \n0                                                  NaN        \n1                                                  NaN        \n2                                                  NaN        \n\n     Net primary school enrolment ratio female (%)  \\\n0                                              NaN   \n1                                             93.0   \n2                                             94.0   \n3                                             83.0   \n4                                             49.0   \n..                                             ...   \n200                                           94.0   \n201                                           88.0   \n0                                              NaN   \n1                                              NaN   \n2                                              NaN   \n\n     Net primary school enrolment ratio male (%)  \\\n0                                            NaN   \n1                                           94.0   \n2                                           96.0   \n3                                           83.0   \n4                                           51.0   \n..                                           ...   \n200                                         90.0   \n201                                         87.0   \n0                                            NaN   \n1                                            NaN   \n2                                            NaN   \n\n     Population (in thousands) total Weather      Food     Price  Number  \n0                            26088.0     NaN       NaN       NaN     NaN  \n1                             3172.0     NaN       NaN       NaN     NaN  \n2                            33351.0     NaN       NaN       NaN     NaN  \n3                               74.0     NaN       NaN       NaN     NaN  \n4                            16557.0     NaN       NaN       NaN     NaN  \n..                               ...     ...       ...       ...     ...  \n200                          11696.0     NaN       NaN       NaN     NaN  \n201                          13228.0     NaN       NaN       NaN     NaN  \n0                                NaN    cold      soup  6.237433     6.0  \n1                                NaN     hot      soup  2.730449     6.0  \n2                                NaN    cold  icecream  5.982072     6.0  \n\n[205 rows x 13 columns]",
      "text/html": "<div>\n<style scoped>\n    .dataframe tbody tr th:only-of-type {\n        vertical-align: middle;\n    }\n\n    .dataframe tbody tr th {\n        vertical-align: top;\n    }\n\n    .dataframe thead th {\n        text-align: right;\n    }\n</style>\n<table border=\"1\" class=\"dataframe\">\n  <thead>\n    <tr style=\"text-align: right;\">\n      <th></th>\n      <th>Country</th>\n      <th>CountryID</th>\n      <th>Continent</th>\n      <th>Adolescent fertility rate (%)</th>\n      <th>Adult literacy rate (%)</th>\n      <th>Gross national income per capita (PPP international $)</th>\n      <th>Net primary school enrolment ratio female (%)</th>\n      <th>Net primary school enrolment ratio male (%)</th>\n      <th>Population (in thousands) total</th>\n      <th>Weather</th>\n      <th>Food</th>\n      <th>Price</th>\n      <th>Number</th>\n    </tr>\n  </thead>\n  <tbody>\n    <tr>\n      <th>0</th>\n      <td>Afghanistan</td>\n      <td>1.0</td>\n      <td>1.0</td>\n      <td>151.0</td>\n      <td>28.0</td>\n      <td>NaN</td>\n      <td>NaN</td>\n      <td>NaN</td>\n      <td>26088.0</td>\n      <td>NaN</td>\n      <td>NaN</td>\n      <td>NaN</td>\n      <td>NaN</td>\n    </tr>\n    <tr>\n      <th>1</th>\n      <td>Albania</td>\n      <td>2.0</td>\n      <td>2.0</td>\n      <td>27.0</td>\n      <td>98.7</td>\n      <td>6000.0</td>\n      <td>93.0</td>\n      <td>94.0</td>\n      <td>3172.0</td>\n      <td>NaN</td>\n      <td>NaN</td>\n      <td>NaN</td>\n      <td>NaN</td>\n    </tr>\n    <tr>\n      <th>2</th>\n      <td>Algeria</td>\n      <td>3.0</td>\n      <td>3.0</td>\n      <td>6.0</td>\n      <td>69.9</td>\n      <td>5940.0</td>\n      <td>94.0</td>\n      <td>96.0</td>\n      <td>33351.0</td>\n      <td>NaN</td>\n      <td>NaN</td>\n      <td>NaN</td>\n      <td>NaN</td>\n    </tr>\n    <tr>\n      <th>3</th>\n      <td>Andorra</td>\n      <td>4.0</td>\n      <td>2.0</td>\n      <td>NaN</td>\n      <td>NaN</td>\n      <td>NaN</td>\n      <td>83.0</td>\n      <td>83.0</td>\n      <td>74.0</td>\n      <td>NaN</td>\n      <td>NaN</td>\n      <td>NaN</td>\n      <td>NaN</td>\n    </tr>\n    <tr>\n      <th>4</th>\n      <td>Angola</td>\n      <td>5.0</td>\n      <td>3.0</td>\n      <td>146.0</td>\n      <td>67.4</td>\n      <td>3890.0</td>\n      <td>49.0</td>\n      <td>51.0</td>\n      <td>16557.0</td>\n      <td>NaN</td>\n      <td>NaN</td>\n      <td>NaN</td>\n      <td>NaN</td>\n    </tr>\n    <tr>\n      <th>...</th>\n      <td>...</td>\n      <td>...</td>\n      <td>...</td>\n      <td>...</td>\n      <td>...</td>\n      <td>...</td>\n      <td>...</td>\n      <td>...</td>\n      <td>...</td>\n      <td>...</td>\n      <td>...</td>\n      <td>...</td>\n      <td>...</td>\n    </tr>\n    <tr>\n      <th>200</th>\n      <td>Zambia</td>\n      <td>201.0</td>\n      <td>3.0</td>\n      <td>161.0</td>\n      <td>68.0</td>\n      <td>1140.0</td>\n      <td>94.0</td>\n      <td>90.0</td>\n      <td>11696.0</td>\n      <td>NaN</td>\n      <td>NaN</td>\n      <td>NaN</td>\n      <td>NaN</td>\n    </tr>\n    <tr>\n      <th>201</th>\n      <td>Zimbabwe</td>\n      <td>202.0</td>\n      <td>3.0</td>\n      <td>101.0</td>\n      <td>89.5</td>\n      <td>NaN</td>\n      <td>88.0</td>\n      <td>87.0</td>\n      <td>13228.0</td>\n      <td>NaN</td>\n      <td>NaN</td>\n      <td>NaN</td>\n      <td>NaN</td>\n    </tr>\n    <tr>\n      <th>0</th>\n      <td>NaN</td>\n      <td>NaN</td>\n      <td>NaN</td>\n      <td>NaN</td>\n      <td>NaN</td>\n      <td>NaN</td>\n      <td>NaN</td>\n      <td>NaN</td>\n      <td>NaN</td>\n      <td>cold</td>\n      <td>soup</td>\n      <td>6.237433</td>\n      <td>6.0</td>\n    </tr>\n    <tr>\n      <th>1</th>\n      <td>NaN</td>\n      <td>NaN</td>\n      <td>NaN</td>\n      <td>NaN</td>\n      <td>NaN</td>\n      <td>NaN</td>\n      <td>NaN</td>\n      <td>NaN</td>\n      <td>NaN</td>\n      <td>hot</td>\n      <td>soup</td>\n      <td>2.730449</td>\n      <td>6.0</td>\n    </tr>\n    <tr>\n      <th>2</th>\n      <td>NaN</td>\n      <td>NaN</td>\n      <td>NaN</td>\n      <td>NaN</td>\n      <td>NaN</td>\n      <td>NaN</td>\n      <td>NaN</td>\n      <td>NaN</td>\n      <td>NaN</td>\n      <td>cold</td>\n      <td>icecream</td>\n      <td>5.982072</td>\n      <td>6.0</td>\n    </tr>\n  </tbody>\n</table>\n<p>205 rows × 13 columns</p>\n</div>"
     },
     "execution_count": 132,
     "metadata": {},
     "output_type": "execute_result"
    }
   ],
   "source": [
    "#Using the concat function from pandas, put the 3 rows you selected back with the original dataframe\n",
    "frame = [df, three]\n",
    "result = pd.concat(frame)\n",
    "result"
   ],
   "metadata": {
    "collapsed": false,
    "pycharm": {
     "name": "#%%\n"
    }
   }
  },
  {
   "cell_type": "code",
   "execution_count": 141,
   "outputs": [
    {
     "name": "stderr",
     "output_type": "stream",
     "text": [
      "C:\\Users\\jeroc\\AppData\\Local\\Temp\\ipykernel_22644\\3657327271.py:5: FutureWarning: The frame.append method is deprecated and will be removed from pandas in a future version. Use pandas.concat instead.\n",
      "  df2 = three.append(last_two)\n"
     ]
    },
    {
     "data": {
      "text/plain": "    Weather      Food     Price  Number   Country  CountryID  Continent  \\\n0      cold      soup  6.237433     6.0       NaN        NaN        NaN   \n1       hot      soup  2.730449     6.0       NaN        NaN        NaN   \n2      cold  icecream  5.982072     6.0       NaN        NaN        NaN   \n200     NaN       NaN       NaN     NaN    Zambia      201.0        3.0   \n201     NaN       NaN       NaN     NaN  Zimbabwe      202.0        3.0   \n\n     Adolescent fertility rate (%)  Adult literacy rate (%)  \\\n0                              NaN                      NaN   \n1                              NaN                      NaN   \n2                              NaN                      NaN   \n200                          161.0                     68.0   \n201                          101.0                     89.5   \n\n     Gross national income per capita (PPP international $)  \\\n0                                                  NaN        \n1                                                  NaN        \n2                                                  NaN        \n200                                             1140.0        \n201                                                NaN        \n\n     Net primary school enrolment ratio female (%)  \\\n0                                              NaN   \n1                                              NaN   \n2                                              NaN   \n200                                           94.0   \n201                                           88.0   \n\n     Net primary school enrolment ratio male (%)  \\\n0                                            NaN   \n1                                            NaN   \n2                                            NaN   \n200                                         90.0   \n201                                         87.0   \n\n     Population (in thousands) total  \n0                                NaN  \n1                                NaN  \n2                                NaN  \n200                          11696.0  \n201                          13228.0  ",
      "text/html": "<div>\n<style scoped>\n    .dataframe tbody tr th:only-of-type {\n        vertical-align: middle;\n    }\n\n    .dataframe tbody tr th {\n        vertical-align: top;\n    }\n\n    .dataframe thead th {\n        text-align: right;\n    }\n</style>\n<table border=\"1\" class=\"dataframe\">\n  <thead>\n    <tr style=\"text-align: right;\">\n      <th></th>\n      <th>Weather</th>\n      <th>Food</th>\n      <th>Price</th>\n      <th>Number</th>\n      <th>Country</th>\n      <th>CountryID</th>\n      <th>Continent</th>\n      <th>Adolescent fertility rate (%)</th>\n      <th>Adult literacy rate (%)</th>\n      <th>Gross national income per capita (PPP international $)</th>\n      <th>Net primary school enrolment ratio female (%)</th>\n      <th>Net primary school enrolment ratio male (%)</th>\n      <th>Population (in thousands) total</th>\n    </tr>\n  </thead>\n  <tbody>\n    <tr>\n      <th>0</th>\n      <td>cold</td>\n      <td>soup</td>\n      <td>6.237433</td>\n      <td>6.0</td>\n      <td>NaN</td>\n      <td>NaN</td>\n      <td>NaN</td>\n      <td>NaN</td>\n      <td>NaN</td>\n      <td>NaN</td>\n      <td>NaN</td>\n      <td>NaN</td>\n      <td>NaN</td>\n    </tr>\n    <tr>\n      <th>1</th>\n      <td>hot</td>\n      <td>soup</td>\n      <td>2.730449</td>\n      <td>6.0</td>\n      <td>NaN</td>\n      <td>NaN</td>\n      <td>NaN</td>\n      <td>NaN</td>\n      <td>NaN</td>\n      <td>NaN</td>\n      <td>NaN</td>\n      <td>NaN</td>\n      <td>NaN</td>\n    </tr>\n    <tr>\n      <th>2</th>\n      <td>cold</td>\n      <td>icecream</td>\n      <td>5.982072</td>\n      <td>6.0</td>\n      <td>NaN</td>\n      <td>NaN</td>\n      <td>NaN</td>\n      <td>NaN</td>\n      <td>NaN</td>\n      <td>NaN</td>\n      <td>NaN</td>\n      <td>NaN</td>\n      <td>NaN</td>\n    </tr>\n    <tr>\n      <th>200</th>\n      <td>NaN</td>\n      <td>NaN</td>\n      <td>NaN</td>\n      <td>NaN</td>\n      <td>Zambia</td>\n      <td>201.0</td>\n      <td>3.0</td>\n      <td>161.0</td>\n      <td>68.0</td>\n      <td>1140.0</td>\n      <td>94.0</td>\n      <td>90.0</td>\n      <td>11696.0</td>\n    </tr>\n    <tr>\n      <th>201</th>\n      <td>NaN</td>\n      <td>NaN</td>\n      <td>NaN</td>\n      <td>NaN</td>\n      <td>Zimbabwe</td>\n      <td>202.0</td>\n      <td>3.0</td>\n      <td>101.0</td>\n      <td>89.5</td>\n      <td>NaN</td>\n      <td>88.0</td>\n      <td>87.0</td>\n      <td>13228.0</td>\n    </tr>\n  </tbody>\n</table>\n</div>"
     },
     "execution_count": 141,
     "metadata": {},
     "output_type": "execute_result"
    }
   ],
   "source": [
    "#Using the append function, take those 3 rows and the last 2 rows of the original DataFrame and bring them together\n",
    "#select the last two rows of the origina dataframe\n",
    "last_two=df.tail(2)\n",
    "#bring them together\n",
    "df2 = three.append(last_two)\n",
    "df2"
   ],
   "metadata": {
    "collapsed": false,
    "pycharm": {
     "name": "#%%\n"
    }
   }
  },
  {
   "cell_type": "markdown",
   "source": [
    "#### 7. Using the two CSV files dest.csv and tips.csv, we will bring together two datasets, also known as a join"
   ],
   "metadata": {
    "collapsed": false,
    "pycharm": {
     "name": "#%% md\n"
    }
   }
  },
  {
   "cell_type": "code",
   "execution_count": 167,
   "outputs": [
    {
     "name": "stdout",
     "output_type": "stream",
     "text": [
      "Merge() on key\n",
      "    EmpNr       Dest  Amount\n",
      "0      5  The Hague    10.0\n",
      "1      9  Rotterdam     5.0\n"
     ]
    }
   ],
   "source": [
    "#reading the two files\n",
    "dfd=pd.read_csv(\"E:\\Bellevue\\Fall_2022\\DSC 350 Data Wrangling for Data Scienc\\Week_4\\dest.csv\")\n",
    "dft=pd.read_csv(\"E:\\Bellevue\\Fall_2022\\DSC 350 Data Wrangling for Data Scienc\\Week_4\\_tips.csv\")\n",
    "\n",
    "#Using the merge() function, bring dest and tips together on the “EmpNr” column and print the results\n",
    "print(\"Merge() on key\\n\", pd.merge(dfd, dft, on='EmpNr'))"
   ],
   "metadata": {
    "collapsed": false,
    "pycharm": {
     "name": "#%%\n"
    }
   }
  },
  {
   "cell_type": "code",
   "execution_count": 168,
   "outputs": [
    {
     "name": "stdout",
     "output_type": "stream",
     "text": [
      "Dest join() Tips\n",
      "    EmpNrDest       Dest  EmpNrTips  Amount\n",
      "0          5  The Hague          5    10.0\n",
      "1          3  Amsterdam          9     5.0\n",
      "2          9  Rotterdam          7     2.5\n"
     ]
    }
   ],
   "source": [
    "# Using the join() function, query both files and print the results\n",
    "print(\"Dest join() Tips\\n\", dfd.join(dft, lsuffix='Dest', rsuffix='Tips') )"
   ],
   "metadata": {
    "collapsed": false,
    "pycharm": {
     "name": "#%%\n"
    }
   }
  },
  {
   "cell_type": "code",
   "execution_count": 170,
   "outputs": [
    {
     "name": "stdout",
     "output_type": "stream",
     "text": [
      "Inner join with merge()\n",
      "    EmpNr       Dest  Amount\n",
      "0      5  The Hague    10.0\n",
      "1      9  Rotterdam     5.0\n",
      "\n",
      "The outer join with merge()\n",
      "    EmpNr       Dest  Amount\n",
      "0      5  The Hague    10.0\n",
      "1      3  Amsterdam     NaN\n",
      "2      9  Rotterdam     5.0\n",
      "3      7        NaN     2.5\n"
     ]
    }
   ],
   "source": [
    "#Inner join()\n",
    "print(\"Inner join with merge()\\n\", pd.merge(dfd, dft, how='inner'))\n",
    "\n",
    "##Outer join()\n",
    "print(\"\\nThe outer join with merge()\\n\", pd.merge(dfd, dft, how='outer'))"
   ],
   "metadata": {
    "collapsed": false,
    "pycharm": {
     "name": "#%%\n"
    }
   }
  },
  {
   "cell_type": "markdown",
   "source": [
    "#### 8. Using the WHO_first9cols.csv file, select the first 3 rows, including the headers for these two columns Country & Net primary school enrolment ratio male (%)\n"
   ],
   "metadata": {
    "collapsed": false,
    "pycharm": {
     "name": "#%% md\n"
    }
   }
  },
  {
   "cell_type": "code",
   "execution_count": 154,
   "outputs": [
    {
     "data": {
      "text/plain": "       Country  Net primary school enrolment ratio male (%)\n0  Afghanistan                                          NaN\n1      Albania                                         94.0\n2      Algeria                                         96.0",
      "text/html": "<div>\n<style scoped>\n    .dataframe tbody tr th:only-of-type {\n        vertical-align: middle;\n    }\n\n    .dataframe tbody tr th {\n        vertical-align: top;\n    }\n\n    .dataframe thead th {\n        text-align: right;\n    }\n</style>\n<table border=\"1\" class=\"dataframe\">\n  <thead>\n    <tr style=\"text-align: right;\">\n      <th></th>\n      <th>Country</th>\n      <th>Net primary school enrolment ratio male (%)</th>\n    </tr>\n  </thead>\n  <tbody>\n    <tr>\n      <th>0</th>\n      <td>Afghanistan</td>\n      <td>NaN</td>\n    </tr>\n    <tr>\n      <th>1</th>\n      <td>Albania</td>\n      <td>94.0</td>\n    </tr>\n    <tr>\n      <th>2</th>\n      <td>Algeria</td>\n      <td>96.0</td>\n    </tr>\n  </tbody>\n</table>\n</div>"
     },
     "execution_count": 154,
     "metadata": {},
     "output_type": "execute_result"
    }
   ],
   "source": [
    "df3=df[[df.columns[0], df.columns[-2]]][:3]\n",
    "df3"
   ],
   "metadata": {
    "collapsed": false,
    "pycharm": {
     "name": "#%%\n"
    }
   }
  },
  {
   "cell_type": "code",
   "execution_count": 156,
   "outputs": [
    {
     "name": "stdout",
     "output_type": "stream",
     "text": [
      "null value are:     Country  Net primary school enrolment ratio male (%)\n",
      "0    False                                         True\n",
      "1    False                                        False\n",
      "2    False                                        False\n"
     ]
    }
   ],
   "source": [
    "#Check for missing values\n",
    "null=pd.isnull(df3)\n",
    "print(\"null value are: \", null)"
   ],
   "metadata": {
    "collapsed": false,
    "pycharm": {
     "name": "#%%\n"
    }
   }
  },
  {
   "cell_type": "code",
   "execution_count": 158,
   "outputs": [
    {
     "name": "stdout",
     "output_type": "stream",
     "text": [
      "The sum of null value are: \n",
      " Country                                        0\n",
      "Net primary school enrolment ratio male (%)    1\n",
      "dtype: int64\n"
     ]
    }
   ],
   "source": [
    "#Count the number of NaN values\n",
    "rez=null.sum()\n",
    "print(\"The sum of null value are: \\n\", rez)"
   ],
   "metadata": {
    "collapsed": false,
    "pycharm": {
     "name": "#%%\n"
    }
   }
  },
  {
   "cell_type": "code",
   "execution_count": 162,
   "outputs": [
    {
     "name": "stdout",
     "output_type": "stream",
     "text": [
      "the not null value are:     Country  Net primary school enrolment ratio male (%)\n",
      "0     True                                        False\n",
      "1     True                                         True\n",
      "2     True                                         True\n"
     ]
    }
   ],
   "source": [
    "#Print any non-missing values\n",
    "no_null=pd.notnull(df3)\n",
    "print(\"the not null value are: \", no_null)\n"
   ],
   "metadata": {
    "collapsed": false,
    "pycharm": {
     "name": "#%%\n"
    }
   }
  },
  {
   "cell_type": "code",
   "execution_count": 164,
   "outputs": [
    {
     "name": "stdout",
     "output_type": "stream",
     "text": [
      "Zero filled\n",
      "        Country  Net primary school enrolment ratio male (%)\n",
      "0  Afghanistan                                          0.0\n",
      "1      Albania                                         94.0\n",
      "2      Algeria                                         96.0\n"
     ]
    }
   ],
   "source": [
    "#Replace the missing values with a scalar value\n",
    "print(\"Zero filled\\n\", df3.fillna(0))"
   ],
   "metadata": {
    "collapsed": false,
    "pycharm": {
     "name": "#%%\n"
    }
   }
  },
  {
   "cell_type": "code",
   "execution_count": null,
   "outputs": [],
   "source": [],
   "metadata": {
    "collapsed": false,
    "pycharm": {
     "name": "#%%\n"
    }
   }
  }
 ],
 "metadata": {
  "kernelspec": {
   "display_name": "Python 3",
   "language": "python",
   "name": "python3"
  },
  "language_info": {
   "codemirror_mode": {
    "name": "ipython",
    "version": 2
   },
   "file_extension": ".py",
   "mimetype": "text/x-python",
   "name": "python",
   "nbconvert_exporter": "python",
   "pygments_lexer": "ipython2",
   "version": "2.7.6"
  }
 },
 "nbformat": 4,
 "nbformat_minor": 0
}