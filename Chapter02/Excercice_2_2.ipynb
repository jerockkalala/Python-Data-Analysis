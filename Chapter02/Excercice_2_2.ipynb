{
 "cells": [
  {
   "cell_type": "markdown",
   "id": "d8ed0904",
   "metadata": {},
   "source": [
    "### Title: Exercice 2.2\n",
    "### Author: Jerock Kalala\n",
    "### Date: September 16th 2022\n",
    "### Modified By: --\n",
    "### Description: Playing with data: Vector, array, ect..."
   ]
  },
  {
   "cell_type": "code",
   "execution_count": 5,
   "id": "ae597bd0",
   "metadata": {},
   "outputs": [
    {
     "data": {
      "text/plain": [
       "[0, 2, 12, 36]"
      ]
     },
     "execution_count": 5,
     "metadata": {},
     "output_type": "execute_result"
    }
   ],
   "source": [
    "#Question_1.a\n",
    "\n",
    "def pyadd(n):\n",
    "    a = list(range(n))\n",
    "    b = list(range(n))\n",
    "    c = []\n",
    "    for i in range(len(a)):\n",
    "        a[i] = i**2\n",
    "        b[i] = i**3\n",
    "        c.append(a[i] + b[i])\n",
    "    return c\n",
    "pyadd(4)"
   ]
  },
  {
   "cell_type": "code",
   "execution_count": 6,
   "id": "8395149b",
   "metadata": {},
   "outputs": [
    {
     "data": {
      "text/plain": [
       "array([ 0,  2, 12, 36], dtype=int32)"
      ]
     },
     "execution_count": 6,
     "metadata": {},
     "output_type": "execute_result"
    }
   ],
   "source": [
    "#Question_1.b\n",
    "\n",
    "#using Numpy library\n",
    "\n",
    "import numpy as np\n",
    "\n",
    "def numpadd(n):\n",
    "    a = np.arange(n) ** 2\n",
    "    b = np.arange(n) ** 3\n",
    "    c = a + b\n",
    "    return c\n",
    "numpadd(4)"
   ]
  },
  {
   "cell_type": "markdown",
   "id": "0f098c9e",
   "metadata": {},
   "source": [
    "#### Load the iris dataset, print a description of the dataset, and plot column 1 (sepal length) as x and column 2 (sepal width) as y "
   ]
  },
  {
   "cell_type": "code",
   "execution_count": 7,
   "id": "4de1672c",
   "metadata": {
    "scrolled": true
   },
   "outputs": [
    {
     "name": "stdout",
     "output_type": "stream",
     "text": [
      ".. _iris_dataset:\n",
      "\n",
      "Iris plants dataset\n",
      "--------------------\n",
      "\n",
      "**Data Set Characteristics:**\n",
      "\n",
      "    :Number of Instances: 150 (50 in each of three classes)\n",
      "    :Number of Attributes: 4 numeric, predictive attributes and the class\n",
      "    :Attribute Information:\n",
      "        - sepal length in cm\n",
      "        - sepal width in cm\n",
      "        - petal length in cm\n",
      "        - petal width in cm\n",
      "        - class:\n",
      "                - Iris-Setosa\n",
      "                - Iris-Versicolour\n",
      "                - Iris-Virginica\n",
      "                \n",
      "    :Summary Statistics:\n",
      "\n",
      "    ============== ==== ==== ======= ===== ====================\n",
      "                    Min  Max   Mean    SD   Class Correlation\n",
      "    ============== ==== ==== ======= ===== ====================\n",
      "    sepal length:   4.3  7.9   5.84   0.83    0.7826\n",
      "    sepal width:    2.0  4.4   3.05   0.43   -0.4194\n",
      "    petal length:   1.0  6.9   3.76   1.76    0.9490  (high!)\n",
      "    petal width:    0.1  2.5   1.20   0.76    0.9565  (high!)\n",
      "    ============== ==== ==== ======= ===== ====================\n",
      "\n",
      "    :Missing Attribute Values: None\n",
      "    :Class Distribution: 33.3% for each of 3 classes.\n",
      "    :Creator: R.A. Fisher\n",
      "    :Donor: Michael Marshall (MARSHALL%PLU@io.arc.nasa.gov)\n",
      "    :Date: July, 1988\n",
      "\n",
      "The famous Iris database, first used by Sir R.A. Fisher. The dataset is taken\n",
      "from Fisher's paper. Note that it's the same as in R, but not as in the UCI\n",
      "Machine Learning Repository, which has two wrong data points.\n",
      "\n",
      "This is perhaps the best known database to be found in the\n",
      "pattern recognition literature.  Fisher's paper is a classic in the field and\n",
      "is referenced frequently to this day.  (See Duda & Hart, for example.)  The\n",
      "data set contains 3 classes of 50 instances each, where each class refers to a\n",
      "type of iris plant.  One class is linearly separable from the other 2; the\n",
      "latter are NOT linearly separable from each other.\n",
      "\n",
      ".. topic:: References\n",
      "\n",
      "   - Fisher, R.A. \"The use of multiple measurements in taxonomic problems\"\n",
      "     Annual Eugenics, 7, Part II, 179-188 (1936); also in \"Contributions to\n",
      "     Mathematical Statistics\" (John Wiley, NY, 1950).\n",
      "   - Duda, R.O., & Hart, P.E. (1973) Pattern Classification and Scene Analysis.\n",
      "     (Q327.D83) John Wiley & Sons.  ISBN 0-471-22361-1.  See page 218.\n",
      "   - Dasarathy, B.V. (1980) \"Nosing Around the Neighborhood: A New System\n",
      "     Structure and Classification Rule for Recognition in Partially Exposed\n",
      "     Environments\".  IEEE Transactions on Pattern Analysis and Machine\n",
      "     Intelligence, Vol. PAMI-2, No. 1, 67-71.\n",
      "   - Gates, G.W. (1972) \"The Reduced Nearest Neighbor Rule\".  IEEE Transactions\n",
      "     on Information Theory, May 1972, 431-433.\n",
      "   - See also: 1988 MLC Proceedings, 54-64.  Cheeseman et al\"s AUTOCLASS II\n",
      "     conceptual clustering system finds 3 classes in the data.\n",
      "   - Many, many more ...\n"
     ]
    }
   ],
   "source": [
    "from sklearn.datasets import load_iris\n",
    "from matplotlib import pyplot as plt\n",
    "\n",
    "\n",
    "iris = load_iris()\n",
    "print(iris.DESCR)\n"
   ]
  },
  {
   "cell_type": "code",
   "execution_count": 24,
   "id": "6ab9592b",
   "metadata": {},
   "outputs": [
    {
     "data": {
      "image/png": "[encoded data removed]",
      "text/plain": [
       "<Figure size 432x288 with 1 Axes>"
      ]
     },
     "metadata": {
      "needs_background": "light"
     },
     "output_type": "display_data"
    }
   ],
   "source": [
    "data = iris.data\n",
    "plt.plot(data[:,0], data[:,1],  \".\")\n",
    "plt.xlabel(\"Sepal length\", color ='blue', size = 20)# Label X-axis, and set color and size\n",
    "plt.ylabel(\"Sepal width\",color = 'blue', size = 20)#Label y-axis, and set color and size\n",
    "plt.title(\"Sepal Lenght vs Sepal Weight\", size = 22)#Label the plot\n",
    "plt.show()"
   ]
  },
  {
   "cell_type": "markdown",
   "id": "df666ac5",
   "metadata": {},
   "source": [
    "#### Load the boston dataset, print the description of the dataset and plot column 3 (proportion of non-retail business) as x and column 5 (nitric oxide concentration) as y, with each point on the plot marked with a + sign"
   ]
  },
  {
   "cell_type": "code",
   "execution_count": 22,
   "id": "6e7cad50",
   "metadata": {},
   "outputs": [
    {
     "name": "stdout",
     "output_type": "stream",
     "text": [
      ".. _boston_dataset:\n",
      "\n",
      "Boston house prices dataset\n",
      "---------------------------\n",
      "\n",
      "**Data Set Characteristics:**  \n",
      "\n",
      "    :Number of Instances: 506 \n",
      "\n",
      "    :Number of Attributes: 13 numeric/categorical predictive. Median Value (attribute 14) is usually the target.\n",
      "\n",
      "    :Attribute Information (in order):\n",
      "        - CRIM     per capita crime rate by town\n",
      "        - ZN       proportion of residential land zoned for lots over 25,000 sq.ft.\n",
      "        - INDUS    proportion of non-retail business acres per town\n",
      "        - CHAS     Charles River dummy variable (= 1 if tract bounds river; 0 otherwise)\n",
      "        - NOX      nitric oxides concentration (parts per 10 million)\n",
      "        - RM       average number of rooms per dwelling\n",
      "        - AGE      proportion of owner-occupied units built prior to 1940\n",
      "        - DIS      weighted distances to five Boston employment centres\n",
      "        - RAD      index of accessibility to radial highways\n",
      "        - TAX      full-value property-tax rate per $10,000\n",
      "        - PTRATIO  pupil-teacher ratio by town\n",
      "        - B        1000(Bk - 0.63)^2 where Bk is the proportion of black people by town\n",
      "        - LSTAT    % lower status of the population\n",
      "        - MEDV     Median value of owner-occupied homes in $1000's\n",
      "\n",
      "    :Missing Attribute Values: None\n",
      "\n",
      "    :Creator: Harrison, D. and Rubinfeld, D.L.\n",
      "\n",
      "This is a copy of UCI ML housing dataset.\n",
      "https://archive.ics.uci.edu/ml/machine-learning-databases/housing/\n",
      "\n",
      "\n",
      "This dataset was taken from the StatLib library which is maintained at Carnegie Mellon University.\n",
      "\n",
      "The Boston house-price data of Harrison, D. and Rubinfeld, D.L. 'Hedonic\n",
      "prices and the demand for clean air', J. Environ. Economics & Management,\n",
      "vol.5, 81-102, 1978.   Used in Belsley, Kuh & Welsch, 'Regression diagnostics\n",
      "...', Wiley, 1980.   N.B. Various transformations are used in the table on\n",
      "pages 244-261 of the latter.\n",
      "\n",
      "The Boston house-price data has been used in many machine learning papers that address regression\n",
      "problems.   \n",
      "     \n",
      ".. topic:: References\n",
      "\n",
      "   - Belsley, Kuh & Welsch, 'Regression diagnostics: Identifying Influential Data and Sources of Collinearity', Wiley, 1980. 244-261.\n",
      "   - Quinlan,R. (1993). Combining Instance-Based and Model-Based Learning. In Proceedings on the Tenth International Conference of Machine Learning, 236-243, University of Massachusetts, Amherst. Morgan Kaufmann.\n",
      "\n"
     ]
    }
   ],
   "source": [
    "from sklearn.datasets import load_boston\n",
    "boston = load_boston()\n",
    "print(boston.DESCR)#print the data description"
   ]
  },
  {
   "cell_type": "code",
   "execution_count": 28,
   "id": "5c4ec2ef",
   "metadata": {},
   "outputs": [
    {
     "data": {
      "image/png": "[encoded data removed]",
      "text/plain": [
       "<Figure size 432x288 with 1 Axes>"
      ]
     },
     "metadata": {
      "needs_background": "light"
     },
     "output_type": "display_data"
    }
   ],
   "source": [
    "data = boston .data\n",
    "#select the size, and plot\n",
    "plt.plot(data[:,2], data[:,4],  \"+\")\n",
    "# Label X-axis, and set color and size\n",
    "plt.xlabel(\"Non-retail business\", color ='blue', size = 10)\n",
    "#Label y-axis, and set color and size\n",
    "plt.ylabel(\"Nitric oxide concentration\",color = 'blue', size = 10)\n",
    "#Label the plot\n",
    "plt.title(\"Non-retail business vs Nitric oxide concentration\", size = 12)\n",
    "plt.show()"
   ]
  },
  {
   "cell_type": "markdown",
   "id": "482186ef",
   "metadata": {},
   "source": [
    "#### Create a multi-dimensional array"
   ]
  },
  {
   "cell_type": "code",
   "execution_count": 34,
   "id": "a69b021f",
   "metadata": {},
   "outputs": [
    {
     "name": "stdout",
     "output_type": "stream",
     "text": [
      "[[0 1 2 3 4]\n",
      " [0 1 2 3 4]\n",
      " [0 1 2 3 4]]\n"
     ]
    },
    {
     "data": {
      "text/plain": [
       "15"
      ]
     },
     "execution_count": 34,
     "metadata": {},
     "output_type": "execute_result"
    }
   ],
   "source": [
    "#Create a multi-dimensional array\n",
    "abc = np.array([np.arange(5), np.arange(5), np.arange(5)])\n",
    "print(abc)\n",
    "abc.shape"
   ]
  },
  {
   "cell_type": "markdown",
   "id": "ffbcab52",
   "metadata": {},
   "source": [
    "#### Produce an array of single precision floats"
   ]
  },
  {
   "cell_type": "code",
   "execution_count": 35,
   "id": "c1b5071d",
   "metadata": {},
   "outputs": [
    {
     "name": "stdout",
     "output_type": "stream",
     "text": [
      "[0. 1. 2. 3. 4. 5. 6. 7.]\n",
      "float32\n"
     ]
    }
   ],
   "source": [
    "#Producing an array of single precision floats\n",
    "a = np.arange(8, dtype = 'f')\n",
    "print(a)\n",
    "print(a.dtype)#display the data type"
   ]
  },
  {
   "cell_type": "markdown",
   "id": "8d950360",
   "metadata": {},
   "source": [
    "#### Produce an array of complex numbers"
   ]
  },
  {
   "cell_type": "code",
   "execution_count": 36,
   "id": "2dc67a55",
   "metadata": {},
   "outputs": [
    {
     "name": "stdout",
     "output_type": "stream",
     "text": [
      "[0.+0.j 1.+0.j 2.+0.j 3.+0.j 4.+0.j 5.+0.j 6.+0.j 7.+0.j]\n",
      "complex128\n"
     ]
    }
   ],
   "source": [
    "#Producing an array of complex numbers\n",
    "a = np.arange(8, dtype = 'D')\n",
    "print(a)\n",
    "print(a.dtype)#display the data type"
   ]
  },
  {
   "cell_type": "markdown",
   "id": "fc45e52b",
   "metadata": {},
   "source": [
    "#### Define an array containing the numbers 0, 1, 2, and so on up to and including 8...."
   ]
  },
  {
   "cell_type": "code",
   "execution_count": 37,
   "id": "765bc4aa",
   "metadata": {},
   "outputs": [
    {
     "name": "stdout",
     "output_type": "stream",
     "text": [
      "[0 1 2 3 4 5 6 7 8]\n"
     ]
    }
   ],
   "source": [
    "#Defining an array containing the numbers 0, 1, 2, and so on up to and including 8\n",
    "b = np.arange(9)\n",
    "print(b)\n"
   ]
  },
  {
   "cell_type": "code",
   "execution_count": 38,
   "id": "e2644fa0",
   "metadata": {},
   "outputs": [
    {
     "name": "stdout",
     "output_type": "stream",
     "text": [
      "[3 4 5 6]\n"
     ]
    }
   ],
   "source": [
    "# Select a part of the array from indexes 3 to 7, which extract the elements of the arrays 3 through 6\n",
    "print(b[3:7])"
   ]
  },
  {
   "cell_type": "code",
   "execution_count": 45,
   "id": "201bbd14",
   "metadata": {},
   "outputs": [
    {
     "name": "stdout",
     "output_type": "stream",
     "text": [
      "[0 2 4 6]\n",
      "The reverse array is :  [6 4 2 0]\n"
     ]
    }
   ],
   "source": [
    "#Choosing elements from an index of 0 to 7 with an increment of 2. Then reverse the array\n",
    "print(b[:7:2])\n",
    "h =(b[:7:2])\n",
    "print(\"The reverse array is : \", h[::-1])"
   ]
  },
  {
   "cell_type": "markdown",
   "id": "2c343e25",
   "metadata": {},
   "source": [
    "#### Starting on page 34 of your text, create an array and perform the following functions"
   ]
  },
  {
   "cell_type": "code",
   "execution_count": 82,
   "id": "cd17d57c",
   "metadata": {},
   "outputs": [
    {
     "name": "stdout",
     "output_type": "stream",
     "text": [
      "\n",
      "This is the array we will use: \n",
      " [[[ 0  1  2  3  4  5]\n",
      "  [ 6  7  8  9 10 11]\n",
      "  [12 13 14 15 16 17]]\n",
      "\n",
      " [[18 19 20 21 22 23]\n",
      "  [24 25 26 27 28 29]\n",
      "  [30 31 32 33 34 35]]]\n",
      "\n",
      "After using 'Ravel: \n",
      " [ 0  1  2  3  4  5  6  7  8  9 10 11 12 13 14 15 16 17 18 19 20 21 22 23\n",
      " 24 25 26 27 28 29 30 31 32 33 34 35]\n",
      "\n",
      "After using 'flatten: \n",
      " [ 0  1  2  3  4  5  6  7  8  9 10 11 12 13 14 15 16 17 18 19 20 21 22 23\n",
      " 24 25 26 27 28 29 30 31 32 33 34 35]\n",
      "\n",
      "After using 'shape(): \n",
      " [[ 0  1  2  3  4  5  6  7  8]\n",
      " [ 9 10 11 12 13 14 15 16 17]\n",
      " [18 19 20 21 22 23 24 25 26]\n",
      " [27 28 29 30 31 32 33 34 35]]\n",
      "\n",
      "The transposed array look like this: \n",
      " [[ 0  9 18 27]\n",
      " [ 1 10 19 28]\n",
      " [ 2 11 20 29]\n",
      " [ 3 12 21 30]\n",
      " [ 4 13 22 31]\n",
      " [ 5 14 23 32]\n",
      " [ 6 15 24 33]\n",
      " [ 7 16 25 34]\n",
      " [ 8 17 26 35]]\n",
      "\n",
      " The resized array looks like this: \n",
      " None\n"
     ]
    }
   ],
   "source": [
    "#Create an array to use\n",
    "arr = np.arange(36).reshape(2, 3, 6)\n",
    "print(\"\\nThis is the array we will use: \\n\",arr)\n",
    "\n",
    "#Ravel\n",
    "arr1 = arr.ravel()\n",
    "print(\"\\nAfter using 'Ravel: \\n\", arr1)\n",
    "\n",
    "#Flatten\n",
    "arr2 = arr.flatten()\n",
    "print(\"\\nAfter using 'flatten: \\n\", arr2)\n",
    "\n",
    "#Setting the shape with tuple\n",
    "arr3 = arr.reshape(4,9)\n",
    "print(\"\\nAfter using 'shape(): \\n\", arr3)\n",
    "\n",
    "#Transpose\n",
    "arr4 = arr3.transpose()\n",
    "print(\"\\nThe transposed array look like this: \\n\", arr4)\n",
    "\n",
    "#Resize\n",
    "arr5 = arr4.resize(3, 6, 2)\n",
    "print(\"\\n The resized array looks like this: \\n\", arr5)"
   ]
  },
  {
   "cell_type": "markdown",
   "id": "c9c194dc",
   "metadata": {},
   "source": [
    "#### Starting on page 41 of your text, create an array and find the following properties"
   ]
  },
  {
   "cell_type": "code",
   "execution_count": 95,
   "id": "27e276c8",
   "metadata": {},
   "outputs": [
    {
     "name": "stdout",
     "output_type": "stream",
     "text": [
      "\n",
      "This is the array we will use: \n",
      " [[ 0  1  2  3  4  5  6  7  8  9 10 11 12 13 14 15 16 17]\n",
      " [18 19 20 21 22 23 24 25 26 27 28 29 30 31 32 33 34 35]]\n",
      "\n",
      "The number of dimension in this array is:  2\n",
      "\n",
      "This array contains a total of 36 elements.\n",
      "\n",
      "This array hasan item size of 4 bytes.\n",
      "\n",
      "This array contains a total of 144 bytes.\n"
     ]
    }
   ],
   "source": [
    "#Create an array to use\n",
    "anp = np.arange(36).reshape(2, 18)\n",
    "print(\"\\nThis is the array we will use: \\n\",anp)\n",
    "\n",
    "#Number of dimensions\n",
    "anp2 = anp.ndim\n",
    "print(\"\\nThe number of dimension in this array is: \",anp2)\n",
    "\n",
    "#Count of elements\n",
    "anp3 = anp.size\n",
    "print(\"\\nThis array contains a total of\", anp3, \"elements.\\n\")\n",
    "\n",
    "#Count of bytes\n",
    "anp4 = anp.itemsize\n",
    "print(\"This array hasan item size of\", anp4, \"bytes.\\n\")\n",
    "\n",
    "#full count of bytes\n",
    "anp5 = anp.nbytes\n",
    "print(\"This array contains a total of\", anp5, \"bytes.\")"
   ]
  },
  {
   "cell_type": "markdown",
   "id": "61980684",
   "metadata": {},
   "source": [
    "#### Starting on page 45 of your text, convert an array to a Python list"
   ]
  },
  {
   "cell_type": "code",
   "execution_count": 100,
   "id": "67193668",
   "metadata": {},
   "outputs": [
    {
     "name": "stdout",
     "output_type": "stream",
     "text": [
      "\n",
      "This is the array we will use: \n",
      " [[ 0  1  2  3  4  5  6  7  8  9 10 11 12 13 14 15 16 17]\n",
      " [18 19 20 21 22 23 24 25 26 27 28 29 30 31 32 33 34 35]]\n",
      "\n",
      "This is the list obtained from the array: \n",
      " [[0, 1, 2, 3, 4, 5, 6, 7, 8, 9, 10, 11, 12, 13, 14, 15, 16, 17], [18, 19, 20, 21, 22, 23, 24, 25, 26, 27, 28, 29, 30, 31, 32, 33, 34, 35]]\n"
     ]
    },
    {
     "data": {
      "text/plain": [
       "list"
      ]
     },
     "execution_count": 100,
     "metadata": {},
     "output_type": "execute_result"
    }
   ],
   "source": [
    "#Create an array to use\n",
    "al = np.arange(36).reshape(2, 18)\n",
    "print(\"\\nThis is the array we will use: \\n\",al)\n",
    "#to view the type\n",
    "type(al)\n",
    "\n",
    "#Convert to obave array into a list\n",
    "al1 = al.tolist()\n",
    "print(\"\\nThis is the list obtained from the array: \\n\",al1)\n",
    "\n",
    "#to view the type\n",
    "type(al1)"
   ]
  },
  {
   "cell_type": "code",
   "execution_count": null,
   "id": "16fb4117",
   "metadata": {},
   "outputs": [],
   "source": []
  }
 ],
 "metadata": {
  "kernelspec": {
   "display_name": "Python 3 (ipykernel)",
   "language": "python",
   "name": "python3"
  },
  "language_info": {
   "codemirror_mode": {
    "name": "ipython",
    "version": 3
   },
   "file_extension": ".py",
   "mimetype": "text/x-python",
   "name": "python",
   "nbconvert_exporter": "python",
   "pygments_lexer": "ipython3",
   "version": "3.9.7"
  }
 },
 "nbformat": 4,
 "nbformat_minor": 5
}
